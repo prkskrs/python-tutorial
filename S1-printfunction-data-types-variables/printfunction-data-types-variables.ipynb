{
 "cells": [
  {
   "cell_type": "markdown",
   "id": "d5391e49",
   "metadata": {},
   "source": [
    "## Print Function()"
   ]
  },
  {
   "cell_type": "code",
   "execution_count": 1,
   "id": "a268ae99",
   "metadata": {},
   "outputs": [
    {
     "name": "stdout",
     "output_type": "stream",
     "text": [
      "hey prakash\n"
     ]
    }
   ],
   "source": [
    "print(\"hey prakash\")"
   ]
  },
  {
   "cell_type": "code",
   "execution_count": 2,
   "id": "dac1d039",
   "metadata": {},
   "outputs": [
    {
     "name": "stdout",
     "output_type": "stream",
     "text": [
      "5\n"
     ]
    }
   ],
   "source": [
    "print(5)"
   ]
  },
  {
   "cell_type": "code",
   "execution_count": 3,
   "id": "2fda2b86",
   "metadata": {},
   "outputs": [
    {
     "name": "stdout",
     "output_type": "stream",
     "text": [
      "8.4\n"
     ]
    }
   ],
   "source": [
    "\n",
    "print(8.4)"
   ]
  },
  {
   "cell_type": "code",
   "execution_count": 4,
   "id": "2c515e27",
   "metadata": {},
   "outputs": [
    {
     "name": "stdout",
     "output_type": "stream",
     "text": [
      "False\n"
     ]
    }
   ],
   "source": [
    "print(False)"
   ]
  },
  {
   "cell_type": "code",
   "execution_count": 5,
   "id": "fe0d2ffb",
   "metadata": {},
   "outputs": [
    {
     "name": "stdout",
     "output_type": "stream",
     "text": [
      "Prakash 5 True\n"
     ]
    }
   ],
   "source": [
    "print(\"Prakash\",5,True)"
   ]
  },
  {
   "cell_type": "code",
   "execution_count": 6,
   "id": "ad79940d",
   "metadata": {},
   "outputs": [
    {
     "name": "stdout",
     "output_type": "stream",
     "text": [
      "Prakash Priyansh Anusha Aditya\n"
     ]
    }
   ],
   "source": [
    "print(\"Prakash\",\"Priyansh\",\"Anusha\",\"Aditya\")  # By Default sep=\" \""
   ]
  },
  {
   "cell_type": "code",
   "execution_count": 7,
   "id": "324e7c1b",
   "metadata": {},
   "outputs": [
    {
     "name": "stdout",
     "output_type": "stream",
     "text": [
      "PrakashPriyanshAnushaAditya\n"
     ]
    }
   ],
   "source": [
    "print(\"Prakash\",\"Priyansh\",\"Anusha\",\"Aditya\",sep=\"\")"
   ]
  },
  {
   "cell_type": "code",
   "execution_count": 8,
   "id": "e8d4f616",
   "metadata": {},
   "outputs": [
    {
     "name": "stdout",
     "output_type": "stream",
     "text": [
      "Prakash Priyansh Anusha Aditya\n"
     ]
    }
   ],
   "source": [
    "print(\"Prakash\",\"Priyansh\",\"Anusha\",\"Aditya\",sep=' ')"
   ]
  },
  {
   "cell_type": "code",
   "execution_count": 9,
   "id": "ff228e70",
   "metadata": {},
   "outputs": [
    {
     "name": "stdout",
     "output_type": "stream",
     "text": [
      "prakash\n",
      "here\n"
     ]
    }
   ],
   "source": [
    "print(\"prakash\", end=\"\\n\")\n",
    "print(\"here\") \n",
    "# by default end=\"\\n\""
   ]
  },
  {
   "cell_type": "code",
   "execution_count": 10,
   "id": "334832d2",
   "metadata": {},
   "outputs": [
    {
     "name": "stdout",
     "output_type": "stream",
     "text": [
      "prakash here\n"
     ]
    }
   ],
   "source": [
    "print(\"prakash\",end=' ')\n",
    "print(\"here\")"
   ]
  },
  {
   "cell_type": "code",
   "execution_count": 11,
   "id": "0e6cd5b5",
   "metadata": {},
   "outputs": [
    {
     "name": "stdout",
     "output_type": "stream",
     "text": [
      "4\n",
      "inf\n"
     ]
    }
   ],
   "source": [
    "print(4)\n",
    "print(1e309)"
   ]
  },
  {
   "cell_type": "markdown",
   "id": "9b4267c9",
   "metadata": {},
   "source": [
    "## Python supports 3 categories of data types: <br><br>\n",
    "\n",
    "Basic Types - (integer,float,complex,boolean and string)<br>\n",
    "Container Types - (List,Tuples, Sets and Dictionary)<br>\n",
    "User-defined Types - Class<br>"
   ]
  },
  {
   "cell_type": "markdown",
   "id": "1ed2419b",
   "metadata": {},
   "source": [
    "### Basic Types"
   ]
  },
  {
   "cell_type": "code",
   "execution_count": 12,
   "id": "81ac0be4",
   "metadata": {},
   "outputs": [
    {
     "name": "stdout",
     "output_type": "stream",
     "text": [
      "<class 'int'>\n",
      "313123\n"
     ]
    }
   ],
   "source": [
    "# Numbers: Integers and floats \n",
    "x = 313123\n",
    "print(type(x))                         # Prints \"<class 'int'>\"\n",
    "print(x)                               # Prints \"3\""
   ]
  },
  {
   "cell_type": "code",
   "execution_count": 13,
   "id": "0ab85221",
   "metadata": {},
   "outputs": [
    {
     "name": "stdout",
     "output_type": "stream",
     "text": [
      "313124\n",
      "313122\n",
      "626246\n",
      "98046013129\n",
      "156561.5\n",
      "156561\n"
     ]
    }
   ],
   "source": [
    "print(x + 1)                           # Addition; prints \"4\"\n",
    "print(x - 1)                           # Subtraction; prints \"2\"\n",
    "print(x * 2)                           # Multiplication; prints \"6\"\n",
    "print(x ** 2)                          # Exponentiation; prints \"9\"\n",
    "print(x/2) \n",
    "print(x//2)"
   ]
  },
  {
   "cell_type": "code",
   "execution_count": 14,
   "id": "2412068f",
   "metadata": {},
   "outputs": [
    {
     "name": "stdout",
     "output_type": "stream",
     "text": [
      "313124\n",
      "626248\n",
      "<class 'float'>\n",
      "2.5 3.5 5.0 6.25\n"
     ]
    }
   ],
   "source": [
    "x += 1 # x=x+1\n",
    "print(x)                               # Prints \"4\"\n",
    "x *= 2\n",
    "print(x)                               # Prints \"8\"\n",
    "y = 2.5\n",
    "print(type(y))                         # Prints \"<class 'float'>\"\n",
    "print(y, y + 1, y * 2, y ** 2)         # Prints \"2.5 3.5 5.0 6.25\""
   ]
  },
  {
   "cell_type": "code",
   "execution_count": 15,
   "id": "6560c772",
   "metadata": {},
   "outputs": [
    {
     "name": "stdout",
     "output_type": "stream",
     "text": [
      "<class 'bool'>\n",
      "False\n",
      "True\n",
      "False\n",
      "True\n"
     ]
    }
   ],
   "source": [
    "t = True\n",
    "f = False\n",
    "print(type(t))         # Prints \"<class 'bool'>\"\n",
    "print(t and f)         # Logical AND; prints \"False\"\n",
    "print(t or f)          # Logical OR; prints \"True\"\n",
    "print(not t)           # Logical NOT; prints \"False\"\n",
    "print(t != f)          # Logical XOR; prints \"True\""
   ]
  },
  {
   "cell_type": "code",
   "execution_count": 16,
   "id": "24d34a5a",
   "metadata": {},
   "outputs": [],
   "source": [
    "# integer\n",
    "# print(8999**8999)\n",
    "# print(1e308)\n",
    "# print(1e309)"
   ]
  },
  {
   "cell_type": "code",
   "execution_count": 17,
   "id": "88bb2d2d",
   "metadata": {},
   "outputs": [
    {
     "name": "stdout",
     "output_type": "stream",
     "text": [
      "4.5\n",
      "1.1e+308\n",
      "inf\n"
     ]
    }
   ],
   "source": [
    "# float\n",
    "print(4.5)\n",
    "print(1.1e308)\n",
    "print(1.1e309)"
   ]
  },
  {
   "cell_type": "code",
   "execution_count": 18,
   "id": "316df565",
   "metadata": {},
   "outputs": [
    {
     "name": "stdout",
     "output_type": "stream",
     "text": [
      "True\n",
      "False\n"
     ]
    }
   ],
   "source": [
    "# boolean\n",
    "print(True)\n",
    "print(False)"
   ]
  },
  {
   "cell_type": "code",
   "execution_count": 19,
   "id": "65b5aabe",
   "metadata": {},
   "outputs": [
    {
     "name": "stdout",
     "output_type": "stream",
     "text": [
      "(1+59j)\n"
     ]
    }
   ],
   "source": [
    "# complex\n",
    "print(1+59j)\n",
    "# x=1+3j\n",
    "# type(x)"
   ]
  },
  {
   "cell_type": "code",
   "execution_count": 20,
   "id": "12f29fec",
   "metadata": {},
   "outputs": [
    {
     "name": "stdout",
     "output_type": "stream",
     "text": [
      "Hubli\n",
      "Hubli\n",
      "Hubli\n"
     ]
    }
   ],
   "source": [
    "# string\n",
    "print('Hubli')\n",
    "print(\"Hubli\")\n",
    "print(\"\"\"Hubli\"\"\")"
   ]
  },
  {
   "cell_type": "markdown",
   "id": "bcb057a2",
   "metadata": {},
   "source": [
    "### Container Types"
   ]
  },
  {
   "cell_type": "code",
   "execution_count": 21,
   "id": "ee5ac10f",
   "metadata": {},
   "outputs": [
    {
     "name": "stdout",
     "output_type": "stream",
     "text": [
      "[1, 2, 3, 4, 5]\n",
      "1\n"
     ]
    }
   ],
   "source": [
    "# list\n",
    "lst=[1,2,3,4,5]  # more like array\n",
    "print(lst)\n",
    "print(lst[0])"
   ]
  },
  {
   "cell_type": "code",
   "execution_count": 22,
   "id": "fd2d9455",
   "metadata": {},
   "outputs": [
    {
     "name": "stdout",
     "output_type": "stream",
     "text": [
      "[10, 2, 3, 4, 5]\n"
     ]
    }
   ],
   "source": [
    "# lists are mutable\n",
    "lst[0]=10\n",
    "print(lst)"
   ]
  },
  {
   "cell_type": "code",
   "execution_count": 23,
   "id": "06f1c639",
   "metadata": {},
   "outputs": [
    {
     "name": "stdout",
     "output_type": "stream",
     "text": [
      "(1, 2, 3, 4, 5)\n"
     ]
    }
   ],
   "source": [
    "# tuple\n",
    "tup=(1,2,3,4,5)\n",
    "print(tup)\n",
    "# print(tup[0])"
   ]
  },
  {
   "cell_type": "code",
   "execution_count": 24,
   "id": "6d6327d1",
   "metadata": {},
   "outputs": [
    {
     "ename": "TypeError",
     "evalue": "'tuple' object does not support item assignment",
     "output_type": "error",
     "traceback": [
      "\u001b[0;31m---------------------------------------------------------------------------\u001b[0m",
      "\u001b[0;31mTypeError\u001b[0m                                 Traceback (most recent call last)",
      "Input \u001b[0;32mIn [24]\u001b[0m, in \u001b[0;36m<cell line: 2>\u001b[0;34m()\u001b[0m\n\u001b[1;32m      1\u001b[0m \u001b[38;5;66;03m# tuples are immutable\u001b[39;00m\n\u001b[0;32m----> 2\u001b[0m tup[\u001b[38;5;241m0\u001b[39m]\u001b[38;5;241m=\u001b[39m\u001b[38;5;241m10\u001b[39m\n",
      "\u001b[0;31mTypeError\u001b[0m: 'tuple' object does not support item assignment"
     ]
    }
   ],
   "source": [
    "# tuples are immutable\n",
    "tup[0]=10\n",
    "# print(tup)"
   ]
  },
  {
   "cell_type": "code",
   "execution_count": null,
   "id": "7211393b",
   "metadata": {},
   "outputs": [],
   "source": [
    "#sets\n",
    "sett={1,2,5,4,5,5,4}  # reduce redundancy\n",
    "print(sett)"
   ]
  },
  {
   "cell_type": "code",
   "execution_count": null,
   "id": "38c376e9",
   "metadata": {},
   "outputs": [],
   "source": [
    "# dict # key-value pairs\n",
    "dictt={\"Name\":\"Prakash\",\"Age\":20,\"gender\":\"Male\"}\n",
    "# # print(dictt)\n",
    "# print(dictt[\"Age\"])"
   ]
  },
  {
   "cell_type": "markdown",
   "id": "88dd5ce5",
   "metadata": {},
   "source": [
    "## Variables"
   ]
  },
  {
   "cell_type": "code",
   "execution_count": 25,
   "id": "036ab707",
   "metadata": {},
   "outputs": [],
   "source": [
    "# C lang\n",
    "# int a = 5"
   ]
  },
  {
   "cell_type": "code",
   "execution_count": 26,
   "id": "91665ca2",
   "metadata": {},
   "outputs": [],
   "source": [
    "name = 'Prakash'"
   ]
  },
  {
   "cell_type": "code",
   "execution_count": 27,
   "id": "6838031b",
   "metadata": {},
   "outputs": [
    {
     "name": "stdout",
     "output_type": "stream",
     "text": [
      "Prakash\n"
     ]
    }
   ],
   "source": [
    "print(name)"
   ]
  },
  {
   "cell_type": "code",
   "execution_count": 28,
   "id": "4548afc5",
   "metadata": {},
   "outputs": [
    {
     "name": "stdout",
     "output_type": "stream",
     "text": [
      "Prakash Here\n"
     ]
    }
   ],
   "source": [
    "name = 'Prakash Here'\n",
    "print(name)"
   ]
  },
  {
   "cell_type": "code",
   "execution_count": 29,
   "id": "0df050ae",
   "metadata": {},
   "outputs": [],
   "source": [
    "# no variable declaration\n",
    "name=\"prakasj\""
   ]
  },
  {
   "cell_type": "code",
   "execution_count": 30,
   "id": "8b5b6822",
   "metadata": {},
   "outputs": [],
   "source": [
    "name=4"
   ]
  },
  {
   "cell_type": "code",
   "execution_count": 31,
   "id": "2ad964ad",
   "metadata": {},
   "outputs": [],
   "source": [
    "name=4.5"
   ]
  },
  {
   "cell_type": "code",
   "execution_count": 32,
   "id": "382faeeb",
   "metadata": {},
   "outputs": [],
   "source": [
    "name=True"
   ]
  },
  {
   "cell_type": "markdown",
   "id": "260b3887",
   "metadata": {},
   "source": [
    "### Dynamic Typing : we don't have to assign data type before we decalare. Ex: PHP, Python\n",
    "### Dynamic Binding : one variable can store multiple data type. Ex : python "
   ]
  },
  {
   "cell_type": "markdown",
   "id": "471e1b1a",
   "metadata": {},
   "source": [
    "### Static Typing : vice-versa of dynamic typing\n",
    "### Static Binding : vice-versa of dynamic binding"
   ]
  },
  {
   "cell_type": "code",
   "execution_count": 33,
   "id": "591fec3a",
   "metadata": {},
   "outputs": [
    {
     "name": "stdout",
     "output_type": "stream",
     "text": [
      "5\n",
      "6\n",
      "7\n"
     ]
    }
   ],
   "source": [
    "# special syntax\n",
    "a = 5;b=6;c=7\n",
    "print(a)\n",
    "print(b)\n",
    "print(c)"
   ]
  },
  {
   "cell_type": "code",
   "execution_count": 34,
   "id": "2f410d18",
   "metadata": {},
   "outputs": [
    {
     "name": "stdout",
     "output_type": "stream",
     "text": [
      "4\n",
      "5\n",
      "6\n"
     ]
    }
   ],
   "source": [
    "a,b,c = 4,5,6\n",
    "print(a)\n",
    "print(b)\n",
    "print(c)"
   ]
  },
  {
   "cell_type": "code",
   "execution_count": 35,
   "id": "c25125be",
   "metadata": {},
   "outputs": [
    {
     "name": "stdout",
     "output_type": "stream",
     "text": [
      "6\n",
      "6\n",
      "6\n"
     ]
    }
   ],
   "source": [
    "a = b =c =6\n",
    "print(a)\n",
    "print(b)\n",
    "print(c)"
   ]
  },
  {
   "cell_type": "markdown",
   "id": "67d2a1f4",
   "metadata": {},
   "source": [
    "# Keywords\n",
    "Python is a case sensitive programming language \n",
    "\n",
    "In programming, a keyword is a word that is reserved by a program because the word has a special meaning. Keywords can be commands or parameters. Every programming language has a set of keywords that cannot be used as variable names"
   ]
  },
  {
   "cell_type": "code",
   "execution_count": 36,
   "id": "56a8a05e",
   "metadata": {},
   "outputs": [
    {
     "name": "stdout",
     "output_type": "stream",
     "text": [
      "['False', 'None', 'True', 'and', 'as', 'assert', 'async', 'await', 'break', 'class', 'continue', 'def', 'del', 'elif', 'else', 'except', 'finally', 'for', 'from', 'global', 'if', 'import', 'in', 'is', 'lambda', 'nonlocal', 'not', 'or', 'pass', 'raise', 'return', 'try', 'while', 'with', 'yield']\n"
     ]
    }
   ],
   "source": [
    "# python has 33 keywords\n",
    "import keyword\n",
    "print(keyword.kwlist)"
   ]
  },
  {
   "cell_type": "markdown",
   "id": "6072e629",
   "metadata": {},
   "source": [
    "# Identifiers\n",
    "A Python identifier is a name used to identify a variable, function, class, module or other object.<br>\n",
    "Rules for setting Identifiers<br>\n",
    "* can only start with an alphabet or _<br>\n",
    "* Followed by 0 or more letter,_ and digits<br>\n",
    "* keywords cannot be used as an identifiers<br>"
   ]
  },
  {
   "cell_type": "code",
   "execution_count": 39,
   "id": "384b7771",
   "metadata": {},
   "outputs": [],
   "source": [
    "# print()"
   ]
  },
  {
   "cell_type": "code",
   "execution_count": null,
   "id": "b64c077e",
   "metadata": {},
   "outputs": [],
   "source": []
  },
  {
   "cell_type": "code",
   "execution_count": null,
   "id": "42d0fb6f",
   "metadata": {},
   "outputs": [],
   "source": []
  },
  {
   "cell_type": "code",
   "execution_count": null,
   "id": "72891551",
   "metadata": {},
   "outputs": [],
   "source": []
  },
  {
   "cell_type": "code",
   "execution_count": null,
   "id": "2bd27759",
   "metadata": {},
   "outputs": [],
   "source": []
  }
 ],
 "metadata": {
  "kernelspec": {
   "display_name": "Python 3 (ipykernel)",
   "language": "python",
   "name": "python3"
  },
  "language_info": {
   "codemirror_mode": {
    "name": "ipython",
    "version": 3
   },
   "file_extension": ".py",
   "mimetype": "text/x-python",
   "name": "python",
   "nbconvert_exporter": "python",
   "pygments_lexer": "ipython3",
   "version": "3.10.4"
  }
 },
 "nbformat": 4,
 "nbformat_minor": 5
}
